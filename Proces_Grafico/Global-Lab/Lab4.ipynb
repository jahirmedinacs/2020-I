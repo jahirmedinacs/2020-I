{
 "cells": [
  {
   "cell_type": "markdown",
   "metadata": {},
   "source": [
    "---\n",
    "\n",
    "Author: **Medina Lopez, Jahir Gilberth**\n",
    "\n",
    "---\n",
    "\n",
    "\n",
    "# Generacion de Imagenes y Metodos de Binarizacion\n",
    "\n",
    "### Funciones Preliminares Necesarias\n",
    "\n",
    "#### Re-Formatar Imagenes"
   ]
  },
  {
   "cell_type": "code",
   "execution_count": null,
   "metadata": {},
   "outputs": [],
   "source": [
    "function new=ReImagen(old)\n",
    "\n",
    "shape = size(old)\n",
    "\n",
    "[x, y] = shape(1:2)\n",
    "\n",
    "for i=[2 + 1 : 2 + shape(3:end)]\n",
    "    old()\n",
    "end"
   ]
  },
  {
   "cell_type": "markdown",
   "metadata": {},
   "source": [
    "#### Histograma"
   ]
  },
  {
   "cell_type": "code",
   "execution_count": 16,
   "metadata": {},
   "outputs": [],
   "source": [
    "function hist=Histograma(matriz)\n",
    "%El histograma va desde los tonos negros hasta tonos blancos.\n",
    "h = zeros(256);\n",
    "\n",
    "for i=1:256\n",
    "    h(i) = sum(matriz == i);\n",
    "end\n",
    "\n",
    "hist = h;\n",
    "end"
   ]
  },
  {
   "cell_type": "code",
   "execution_count": 17,
   "metadata": {},
   "outputs": [
    {
     "name": "stdout",
     "output_type": "stream",
     "text": [
      "\u001b[0m\u001b[01;35mboat.png\u001b[0m       \u001b[01;35mcoins.png\u001b[0m   \u001b[01;35mhouse.png\u001b[0m    \u001b[01;35mimagen2.png\u001b[0m  \u001b[01;35mpout.png\u001b[0m\r\n",
      "\u001b[01;35mcameraman.png\u001b[0m  \u001b[01;35mhands1.png\u001b[0m  \u001b[01;35mimagen1.png\u001b[0m  \u001b[01;35mparrot.png\u001b[0m   \u001b[01;35mwestconcordorthophoto.png\u001b[0m\r\n",
      "\n"
     ]
    }
   ],
   "source": [
    "!ls \"./images/\";"
   ]
  },
  {
   "cell_type": "code",
   "execution_count": 18,
   "metadata": {},
   "outputs": [],
   "source": [
    "im = imread(\"./images/boat.png\");"
   ]
  },
  {
   "cell_type": "code",
   "execution_count": 19,
   "metadata": {},
   "outputs": [
    {
     "name": "stdout",
     "output_type": "stream",
     "text": [
      "error: Histograma: =: nonconformant arguments (op1 is 1x1, op2 is 1x512)\r\n",
      "error: called from\r\n",
      "    Histograma at line 6 column 10\r\n"
     ]
    }
   ],
   "source": [
    "Histograma(im)"
   ]
  },
  {
   "cell_type": "code",
   "execution_count": 25,
   "metadata": {},
   "outputs": [
    {
     "name": "stdout",
     "output_type": "stream",
     "text": [
      "error: Invalid call to sum.  Correct usage is:\r\n",
      "\r\n",
      " -- sum (X)\r\n",
      " -- sum (X, DIM)\r\n",
      " -- sum (..., \"native\")\r\n",
      " -- sum (..., \"double\")\r\n",
      " -- sum (..., \"extra\")\r\n",
      "\r\n",
      "Additional help for built-in functions and operators is\r\n",
      "available in the online version of the manual.  Use the command\r\n",
      "'doc <topic>' to search the manual index.\r\n",
      "\r\n",
      "Help and information about Octave is also available on the WWW\r\n",
      "at https://www.octave.org and via the help@octave.org\r\n",
      "mailing list.\r\n"
     ]
    }
   ],
   "source": [
    "help(sum)"
   ]
  },
  {
   "cell_type": "code",
   "execution_count": null,
   "metadata": {},
   "outputs": [],
   "source": []
  }
 ],
 "metadata": {
  "kernelspec": {
   "display_name": "Octave",
   "language": "octave",
   "name": "octave"
  },
  "language_info": {
   "file_extension": ".m",
   "help_links": [
    {
     "text": "GNU Octave",
     "url": "https://www.gnu.org/software/octave/support.html"
    },
    {
     "text": "Octave Kernel",
     "url": "https://github.com/Calysto/octave_kernel"
    },
    {
     "text": "MetaKernel Magics",
     "url": "https://metakernel.readthedocs.io/en/latest/source/README.html"
    }
   ],
   "mimetype": "text/x-octave",
   "name": "octave",
   "version": "5.2.0"
  }
 },
 "nbformat": 4,
 "nbformat_minor": 4
}
