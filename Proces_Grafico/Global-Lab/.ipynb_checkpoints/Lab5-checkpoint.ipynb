{
 "cells": [
  {
   "cell_type": "markdown",
   "metadata": {},
   "source": [
    "# Imagen Demo"
   ]
  },
  {
   "cell_type": "code",
   "execution_count": 1,
   "metadata": {},
   "outputs": [],
   "source": [
    "function y = m_padding(x,iii,jjj)\n",
    "\n",
    "%%%%%%%%%%%% Zero-Padding Parcialmente implementado\n",
    "\n",
    "[r_i, r_j] = size(x);\n",
    "alt_r_i = floor((iii - r_i) / 2);\n",
    "alt_r_j = floor((jjj - r_j) / 2);\n",
    "\n",
    "%%%% Añadir para impares\n",
    "\n",
    "y = [zeros(r_i, alt_r_j) x zeros(r_i, alt_r_j)];\n",
    "y = [zeros(alt_r_i, jjj); y; zeros(alt_r_i, jjj)];\n",
    "\n",
    "end"
   ]
  },
  {
   "cell_type": "code",
   "execution_count": 2,
   "metadata": {},
   "outputs": [],
   "source": [
    "function y = m_gradiente(x, modifier)\n",
    "\n",
    "    [filas, columnas] = size(x);\n",
    "    y = zeros(filas, columnas);\n",
    "    ancho = 10;\n",
    "    max_val_ref = 255;\n",
    "    \n",
    "    scale = [2:ancho+1];\n",
    "    scale = 1 ./ scale;\n",
    "    scale = floor(max_val_ref .* scale);\n",
    "    scale = scale + modifier;\n",
    "    rev_scale = fliplr(scale);\n",
    "    \n",
    "    for index = [1: (filas * columnas)]\n",
    "        x(index);\n",
    "        if x(index) == max_val_ref\n",
    "            ref = mod(index,filas);\n",
    "            if ref == 0\n",
    "                ref = filas;\n",
    "            end\n",
    "            carry = [ref - ancho: ref + ancho];\n",
    "            carry1 = carry(carry >= 1);\n",
    "            carry = carry1(carry1 <= filas);\n",
    "            \n",
    "            \n",
    "            id_a = carry(carry < ref) - ref + index;\n",
    "            id_b = carry(carry > ref) - ref + index;\n",
    "            \n",
    "            \n",
    "            y(id_a) = rev_scale(length(rev_scale) - (length(id_a) - 1) :end);\n",
    "            y(index) = max_val_ref;\n",
    "            y(id_b) = scale(1:length(id_b));\n",
    "                        \n",
    "        end\n",
    "\n",
    "    end\n",
    "    \n",
    "end"
   ]
  },
  {
   "cell_type": "code",
   "execution_count": 3,
   "metadata": {},
   "outputs": [],
   "source": [
    "function circle = m_circulo(radio)\n",
    "\n",
    "circle = zeros(radio, radio);\n",
    "\n",
    "x = [1:radio];\n",
    "y = floor(sqrt(radio^2 - x.^2));\n",
    "\n",
    "ids = x * radio + y;\n",
    "\n",
    "circle(ids) = 1;\n",
    "\n",
    "circle = [rot90(circle); circle];\n",
    "circle = [rot90(rot90(circle)) circle];\n",
    "\n",
    "end"
   ]
  },
  {
   "cell_type": "code",
   "execution_count": 4,
   "metadata": {
    "scrolled": false
   },
   "outputs": [
    {
     "data": {
      "image/png": "[encoded data removed]",
      "text/plain": [
       "<IPython.core.display.Image object>"
      ]
     },
     "metadata": {},
     "output_type": "display_data"
    }
   ],
   "source": [
    "img_size = 128;\n",
    "IMG = zeros(img_size,img_size,3);\n",
    "BASE = zeros(img_size, img_size, 3);\n",
    "\n",
    "trng_l = floor(img_size / 2);\n",
    "trng_d = eye(trng_l,trng_l);\n",
    "\n",
    "rombo = [ rot90(trng_d) trng_d; trng_d rot90(trng_d)];\n",
    "\n",
    "rad = floor(img_size * 0.6);\n",
    "circulo = m_circulo(floor(rad/2));\n",
    "\n",
    "\n",
    "band_l = eye(rad,rad);\n",
    "banda =  ( band_l + rot90(rot90(band_l))');\n",
    "banda =  banda + ( band_l + rot90(band_l));\n",
    "\n",
    "%%% Agregando padding\n",
    "\n",
    "p_rombo = m_padding(rombo, img_size, img_size);\n",
    "\n",
    "p_circulo = m_padding(circulo, img_size, img_size);\n",
    "\n",
    "p_banda = m_padding(banda, img_size, img_size);\n",
    "\n",
    "IMG = IMG + p_rombo + p_circulo + p_banda;\n",
    "IMG = 255 - uint8(255 * IMG);\n",
    "\n",
    "IMG = IMG(:,:,1);\n",
    "imshow(IMG);"
   ]
  },
  {
   "cell_type": "code",
   "execution_count": 5,
   "metadata": {},
   "outputs": [
    {
     "name": "stdout",
     "output_type": "stream",
     "text": [
      "ans =\r\n",
      "\r\n",
      "   128   128\r\n",
      "\r\n"
     ]
    }
   ],
   "source": [
    "size(IMG)"
   ]
  },
  {
   "cell_type": "markdown",
   "metadata": {},
   "source": [
    "# Funciones Adicionales\n",
    "\n",
    "## Padding - Reflejo"
   ]
  },
  {
   "cell_type": "code",
   "execution_count": 6,
   "metadata": {},
   "outputs": [],
   "source": [
    "function  output = ReflectImage(matrix, radio);\n",
    "[fMat,cMat]=size(matrix);\n",
    "\n",
    "fTotal = fMat + 2 * radio;\n",
    "cTotal = cMat + 2 * radio;\n",
    "\n",
    "for i=1:fTotal\n",
    "    for j=1:cTotal\n",
    "        if i>radio && i<=fTotal-radio && j>radio && j<=cTotal-radio\n",
    "            matrixReflect(i,j) = matrix(i-radio,j-radio);\n",
    "        else \n",
    "            matrixReflect(i,j) = 255;\n",
    "        end\n",
    "    end\n",
    "end\n",
    "\n",
    "output = matrixReflect;\n",
    "end"
   ]
  },
  {
   "cell_type": "markdown",
   "metadata": {},
   "source": []
  },
  {
   "cell_type": "code",
   "execution_count": 7,
   "metadata": {},
   "outputs": [],
   "source": [
    "function  output = ReductImage(matrix, radio);\n",
    "[fTotal,cTotal]=size(matrix);\n",
    "\n",
    "fMat = fTotal - radio*2;\n",
    "cMat = cTotal - radio*2;\n",
    "\n",
    "\n",
    "\n",
    "%for i=1:fTotal\n",
    "%    for j=1:cTotal\n",
    "%        if i>radio && i<=fTotal-radio && j>radio && j<=cTotal-radio\n",
    "%            matrixReduct(i-radio,j-radio) = matrix(i,j);\n",
    "%        end\n",
    "%    end\n",
    "%end\n",
    "\n",
    "for i=1:fMat\n",
    "    for j=1:cMat\n",
    "        matrixReduct(i,j) = matrix(i+radio,j+radio);\n",
    "    end\n",
    "end\n",
    "\n",
    "output = matrixReduct;\n",
    "end"
   ]
  },
  {
   "cell_type": "code",
   "execution_count": 5,
   "metadata": {},
   "outputs": [],
   "source": [
    "function hist=Histograma(imagen)\n",
    "%El histograma va desde los tonos negros hasta tonos blancos.\n",
    "imD = imagen;\n",
    "[f,c]=size(imD);\n",
    " \n",
    "for i=1:256\n",
    "    h(i) = 0;\n",
    "end\n",
    " \n",
    "for i=1:f\n",
    "       for j=1:c\n",
    "           k = imD(i,j);\n",
    "           h(k+1) = h(k+1)+1;\n",
    "       end\n",
    "end\n",
    "%Plotear el Histograma\n",
    "%plot(h);\n",
    "hist = h; \n",
    "end"
   ]
  },
  {
   "cell_type": "code",
   "execution_count": 4,
   "metadata": {},
   "outputs": [],
   "source": [
    "function output = Binarization(imD,threshold);\n",
    "\n",
    "[fBin,cBin]=size(imD);\n",
    "\n",
    "for i=1:fBin\n",
    "    for j=1:cBin\n",
    "        if imD(i,j)<=threshold\n",
    "            imageBin(i,j) = 0;\n",
    "        else\n",
    "            imageBin(i,j) = 255;\n",
    "        end\n",
    "    end\n",
    "end\n",
    "\n",
    "output = imageBin;\n",
    "end"
   ]
  },
  {
   "cell_type": "code",
   "execution_count": 3,
   "metadata": {},
   "outputs": [],
   "source": [
    "function salida = otsuMethod(imD);\n",
    "\n",
    "[fOtsu,cOtsu]=size(imD);\n",
    "histogram = Histograma(imD);\n",
    "\n",
    "n = fOtsu*cOtsu;\n",
    "\n",
    "\n",
    "%frecuencia de cada pixel.\n",
    "for i=1:256\n",
    "    f(i) = histogram(i)/n;\n",
    "end\n",
    "\n",
    "mayor = 0;\n",
    "\n",
    "for i=1:256\n",
    "    if f(i) ~= 0\n",
    "        w1 = 0;\n",
    "        w2 = 0;\n",
    "        u1 = 0;\n",
    "        u2 = 0;\n",
    "        ut = 0;\n",
    "        sigma = 0;\n",
    "        %W1\n",
    "        for j=1:i\n",
    "            w1 = w1 + (f(j));\n",
    "        end\n",
    "        %U1\n",
    "        for j=1:i\n",
    "            u1 = u1 + (j*(f(j)/w1));\n",
    "        end\n",
    "        %W2\n",
    "        for j=i+1:256\n",
    "            w2 = w2 + (f(j));\n",
    "        end \n",
    "        %U2\n",
    "        for j=i+1:256\n",
    "            u2 = u2 + (j*(f(j)/w2));\n",
    "        end\n",
    "\n",
    "        ut = (w1*u1)+(w2*u2);\n",
    "        sigma = (w1*(u1-ut)^2)+(w2*(u2-ut)^2);\n",
    "\n",
    "        if(mayor < sigma)\n",
    "            mayor = sigma;\n",
    "            umbral = i;\n",
    "        end\n",
    "    end\n",
    "end\n",
    "\n",
    "salida = umbral;\n",
    "end"
   ]
  },
  {
   "cell_type": "markdown",
   "metadata": {},
   "source": [
    "# Generador de Elementos Estructurales\n",
    "\n",
    "## Erosion"
   ]
  },
  {
   "cell_type": "code",
   "execution_count": 11,
   "metadata": {},
   "outputs": [],
   "source": [
    "function output = ErosionMatriz(templateBin, radio, name_SE);\n",
    "\n",
    "%templateBin = [  255 255 255 255 255 255 255 255 255 255;\n",
    "%            255 0 0 0 0 0 0 0 0 255;\n",
    "%            255 0 0 0 0 0 0 0 0 255;\n",
    "%            255 0 0 0 0 0 0 0 0 255;\n",
    "%            255 0 0 0 255 255 255 255 255 255;\n",
    "%            255 0 0 0 255 255 255 255 255 255;\n",
    "%            255 0 0 0 0 0 0 0 0 255;\n",
    "%            255 0 0 0 0 0 0 0 0 255;\n",
    "%            255 0 0 0 0 0 0 0 0 255;\n",
    "%            255 255 255 255 255 255 255 255 255 255];\n",
    "        \n",
    "templateBinR = ReflectImage(templateBin, radio);\n",
    "[fEro,cEro]=size(templateBinR);\n",
    "\n",
    "radio__ = round(radio/2)-1;\n",
    "\n",
    "for i=1:fEro\n",
    "    for j=1:cEro\n",
    "        matrixErosion(i,j) = 255;\n",
    "    end\n",
    "end\n",
    "\n",
    "if strcmp(name_SE, 'cruz')\n",
    "   for i=1:fEro-radio+1\n",
    "        for j=1:cEro-radio+1\n",
    "            matrixEva = templateBinR(i:i+radio-1,j:j+radio-1);\n",
    "            band = SE_Cross_Erosion(matrixEva,radio);\n",
    "\n",
    "            if band == true\n",
    "                matrixErosion(i+radio__,j+radio__) = 0;\n",
    "            end\n",
    "        end\n",
    "   end\n",
    "   matrixErosion = ReductImage(matrixErosion,radio);\n",
    "elseif strcmp(name_SE, 'cuadrado')\n",
    "        for i=1:fEro-radio+1\n",
    "            for j=1:cEro-radio+1\n",
    "                matrixEva = templateBinR(i:i+radio-1,j:j+radio-1);\n",
    "                band = SE_Square_Erosion(matrixEva,radio);\n",
    "                \n",
    "                if band == true\n",
    "                    matrixErosion(i+radio__,j+radio__) = 0;\n",
    "                end\n",
    "            end\n",
    "        end\n",
    "        matrixErosion = ReductImage(matrixErosion,radio);\n",
    "elseif strcmp(name_SE, 'lineaV')\n",
    "        for i=1:fEro-radio+1\n",
    "            for j=1:cEro\n",
    "                matrixEva = templateBinR(i:i+radio-1,j:j);            \n",
    "                band = SE_VerticalLine_Erosion(matrixEva,radio);\n",
    "                \n",
    "                if band == true\n",
    "                    matrixErosion(i+radio__,j) = 0;\n",
    "                end\n",
    "                \n",
    "            end\n",
    "        end    \n",
    "        matrixErosion = ReductImage(matrixErosion,radio);\n",
    "elseif strcmp(name_SE, 'lineaH')\n",
    "        for i=1:fEro\n",
    "            for j=1:cEro-radio+1\n",
    "                matrixEva = templateBinR(i:i,j:j+radio-1);            \n",
    "                band = SE_HorizontalLine_Erosion(matrixEva,radio);\n",
    "                \n",
    "                if band == true\n",
    "                    matrixErosion(i,j+radio__) = 0;\n",
    "                end\n",
    "                \n",
    "            end\n",
    "        end\n",
    "        matrixErosion = ReductImage(matrixErosion,radio);\n",
    "end\n",
    "\n",
    "output = matrixErosion;\n",
    "end"
   ]
  },
  {
   "cell_type": "markdown",
   "metadata": {},
   "source": [
    "# Dilatacion"
   ]
  },
  {
   "cell_type": "code",
   "execution_count": 12,
   "metadata": {},
   "outputs": [],
   "source": [
    "function output = DilatacionMatriz(templateBin, radio, name_SE);\n",
    "\n",
    "%templateBin = [  255 255 255 255 255 255 255 255 255 255;\n",
    "%            255 255 255 255 255 255 255 255 255 255;\n",
    "%            255 255 0 0 0 0 0 0 255 255;\n",
    "%            255 255 0 255 255 255 255 255 255 255;\n",
    "%            255 255 0 255 255 255 255 255 255 255;\n",
    "%            255 255 0 255 255 255 255 255 255 255;\n",
    "%            255 255 0 255 255 255 255 255 255 255;\n",
    "%            255 255 0 0 0 0 0 0 255 255;\n",
    "%            255 255 255 255 255 255 255 255 255 255;\n",
    "%            255 255 255 255 255 255 255 255 255 255];\n",
    "\n",
    "templateBinR = ReflectImage(templateBin, radio);\n",
    "[fDil,cDil]=size(templateBinR)\n",
    "\n",
    "for i=1:fDil\n",
    "    for j=1:cDil\n",
    "        matrixDilated(i,j) = 255;\n",
    "    end\n",
    "end\n",
    "\n",
    "if strcmp(name_SE, 'cruz')\n",
    "   for i=1:fDil\n",
    "        for j=1:cDil\n",
    "            if templateBinR(i,j) == 0\n",
    "                matrixDilated = SE_Cross_Dilatation(matrixDilated,radio,i,j);\n",
    "            end\n",
    "        end\n",
    "   end\n",
    "   matrixDilated = ReductImage(matrixDilated,radio);\n",
    "elseif strcmp(name_SE, 'cuadrado')\n",
    "        for i=1:fDil\n",
    "            for j=1:cDil\n",
    "                if templateBinR(i,j) == 0\n",
    "                    matrixDilated = SE_Square_Dilatation(matrixDilated,radio,i,j);\n",
    "                end\n",
    "            end\n",
    "        end\n",
    "        matrixDilated = ReductImage(matrixDilated,radio);\n",
    "elseif strcmp(name_SE, 'lineaV')\n",
    "        for i=1:fDil-radio+1\n",
    "            for j=1:cDil\n",
    "                if templateBinR(i,j) == 0\n",
    "                    matrixDilated = SE_VerticalLine_Dilatation(matrixDilated,radio,i,j);\n",
    "                end\n",
    "            end\n",
    "        end    \n",
    "        matrixDilated = ReductImage(matrixDilated,radio);\n",
    "elseif strcmp(name_SE, 'lineaH')\n",
    "         for i=1:fDil-radio+1\n",
    "            for j=1:cDil\n",
    "                if templateBinR(i,j) == 0\n",
    "                    matrixDilated = SE_HorizontalLine_Dilatation(matrixDilated,radio,i,j);\n",
    "                end\n",
    "            end\n",
    "        end    \n",
    "        matrixDilated = ReductImage(matrixDilated,radio);\n",
    "end\n",
    "\n",
    "output = matrixDilated;\n",
    "end"
   ]
  },
  {
   "cell_type": "markdown",
   "metadata": {},
   "source": [
    "---\n",
    "---\n",
    "\n",
    "\n",
    "# Operaciones Morfologicas\n",
    "\n",
    "## Erosion"
   ]
  },
  {
   "cell_type": "code",
   "execution_count": 13,
   "metadata": {},
   "outputs": [],
   "source": [
    "function Erosion(image, radio, name_SE);\n",
    "\n",
    "threshold = otsuMethod(image);\n",
    "templateBin = Binarization(image, threshold);\n",
    "% templateBin = image;\n",
    "\n",
    "%templateBin = [  255 255 255 255 255 255 255 255 255 255;\n",
    "%            255 0 0 0 0 0 0 0 0 255;\n",
    "%            255 0 0 0 0 0 0 0 0 255;\n",
    "%            255 0 0 0 0 0 0 0 0 255;\n",
    "%            255 0 0 0 255 255 255 255 255 255;\n",
    "%            255 0 0 0 255 255 255 255 255 255;\n",
    "%            255 0 0 0 0 0 0 0 0 255;\n",
    "%            255 0 0 0 0 0 0 0 0 255;\n",
    "%            255 0 0 0 0 0 0 0 0 255;\n",
    "%            255 255 255 255 255 255 255 255 255 255];\n",
    "        \n",
    "templateBinR = ReflectImage(templateBin, radio);\n",
    "[fEro,cEro]=size(templateBinR);\n",
    "\n",
    "radio__ = round(radio/2)-1;\n",
    "\n",
    "for i=1:fEro\n",
    "    for j=1:cEro\n",
    "        matrixErosion(i,j) = 255;\n",
    "    end\n",
    "end\n",
    "\n",
    "if strcmp(name_SE, 'cruz')\n",
    "   for i=1:fEro-radio+1\n",
    "        for j=1:cEro-radio+1\n",
    "            matrixEva = templateBinR(i:i+radio-1,j:j+radio-1);\n",
    "            band = SE_Cross_Erosion(matrixEva,radio);\n",
    "\n",
    "            if band == true\n",
    "                matrixErosion(i+radio__,j+radio__) = 0;\n",
    "            end\n",
    "        end\n",
    "   end\n",
    "   matrixErosion = ReductImage(matrixErosion,radio);\n",
    "elseif strcmp(name_SE, 'cuadrado')\n",
    "        for i=1:fEro-radio+1\n",
    "            for j=1:cEro-radio+1\n",
    "                matrixEva = templateBinR(i:i+radio-1,j:j+radio-1);\n",
    "                band = SE_Square_Erosion(matrixEva,radio);\n",
    "                \n",
    "                if band == true\n",
    "                    matrixErosion(i+radio__,j+radio__) = 0;\n",
    "                end\n",
    "            end\n",
    "        end\n",
    "        matrixErosion = ReductImage(matrixErosion,radio);\n",
    "elseif strcmp(name_SE, 'lineaV')\n",
    "        for i=1:fEro-radio+1\n",
    "            for j=1:cEro\n",
    "                matrixEva = templateBinR(i:i+radio-1,j:j);            \n",
    "                band = SE_VerticalLine_Erosion(matrixEva,radio);\n",
    "                \n",
    "                if band == true\n",
    "                    matrixErosion(i+radio__,j) = 0;\n",
    "                end\n",
    "                \n",
    "            end\n",
    "        end    \n",
    "        matrixErosion = ReductImage(matrixErosion,radio);\n",
    "elseif strcmp(name_SE, 'lineaH')\n",
    "        for i=1:fEro\n",
    "            for j=1:cEro-radio+1\n",
    "                matrixEva = templateBinR(i:i,j:j+radio-1);            \n",
    "                band = SE_HorizontalLine_Erosion(matrixEva,radio);\n",
    "                \n",
    "                if band == true\n",
    "                    matrixErosion(i,j+radio__) = 0;\n",
    "                end\n",
    "                \n",
    "            end\n",
    "        end\n",
    "        matrixErosion = ReductImage(matrixErosion,radio);\n",
    "end\n",
    "\n",
    "\n",
    "imageErosion = uint8(matrixErosion);\n",
    "imageBin = uint8(templateBin);\n",
    "\n",
    "figure\n",
    "    subplot(1,3,1); imshow(image); title('Imagen Normal.')\n",
    "    subplot(1,3,2); imshow(imageBin); title('Binarizacion.')    \n",
    "    subplot(1,3,3); imshow(imageErosion); title('Erosion')\n",
    "whos image\n",
    "end"
   ]
  },
  {
   "cell_type": "markdown",
   "metadata": {},
   "source": [
    "## Dilatacion"
   ]
  },
  {
   "cell_type": "code",
   "execution_count": 14,
   "metadata": {},
   "outputs": [],
   "source": [
    "function Dilatacion(image, radio, name_SE);\n",
    "\n",
    "threshold = otsuMethod(image);\n",
    "templateBin = Binarization(image, threshold);\n",
    "% templateBin = image;\n",
    "\n",
    "%templateBin = [  255 255 255 255 255 255 255 255 255 255;\n",
    "%            255 255 255 255 255 255 255 255 255 255;\n",
    "%            255 255 0 0 0 0 0 0 255 255;\n",
    "%            255 255 0 255 255 255 255 255 255 255;\n",
    "%            255 255 0 255 255 255 255 255 255 255;\n",
    "%            255 255 0 255 255 255 255 255 255 255;\n",
    "%            255 255 0 255 255 255 255 255 255 255;\n",
    "%            255 255 0 0 0 0 0 0 255 255;\n",
    "%            255 255 255 255 255 255 255 255 255 255;\n",
    "%            255 255 255 255 255 255 255 255 255 255];\n",
    "\n",
    "templateBinR = ReflectImage(templateBin, radio);\n",
    "[fDil,cDil]=size(templateBinR)\n",
    "\n",
    "for i=1:fDil\n",
    "    for j=1:cDil\n",
    "        matrixDilated(i,j) = 255;\n",
    "    end\n",
    "end\n",
    "\n",
    "if strcmp(name_SE, 'cruz')\n",
    "   for i=1:fDil\n",
    "        for j=1:cDil\n",
    "            if templateBinR(i,j) == 0\n",
    "                matrixDilated = SE_Cross_Dilatation(matrixDilated,radio,i,j);\n",
    "            end\n",
    "        end\n",
    "   end\n",
    "   matrixDilated = ReductImage(matrixDilated,radio);\n",
    "elseif strcmp(name_SE, 'cuadrado')\n",
    "        for i=1:fDil\n",
    "            for j=1:cDil\n",
    "                if templateBinR(i,j) == 0\n",
    "                    matrixDilated = SE_Square_Dilatation(matrixDilated,radio,i,j);\n",
    "                end\n",
    "            end\n",
    "        end\n",
    "        matrixDilated = ReductImage(matrixDilated,radio);\n",
    "elseif strcmp(name_SE, 'lineaV')\n",
    "        for i=1:fDil-radio+1\n",
    "            for j=1:cDil\n",
    "                if templateBinR(i,j) == 0\n",
    "                    matrixDilated = SE_VerticalLine_Dilatation(matrixDilated,radio,i,j);\n",
    "                end\n",
    "            end\n",
    "        end    \n",
    "        matrixDilated = ReductImage(matrixDilated,radio);\n",
    "elseif strcmp(name_SE, 'lineaH')\n",
    "         for i=1:fDil-radio+1\n",
    "            for j=1:cDil\n",
    "                if templateBinR(i,j) == 0\n",
    "                    matrixDilated = SE_HorizontalLine_Dilatation(matrixDilated,radio,i,j);\n",
    "                end\n",
    "            end\n",
    "        end    \n",
    "        matrixDilated = ReductImage(matrixDilated,radio);\n",
    "end\n",
    "\n",
    "imageDilated = uint8(matrixDilated);\n",
    "imageBin = uint8(templateBin);\n",
    "\n",
    "figure\n",
    "    subplot(1,3,1); imshow(image); title('Imagen Normal.')\n",
    "    subplot(1,3,2); imshow(imageBin); title('Binarizacion.')    \n",
    "    subplot(1,3,3); imshow(imageDilated); title('Dilatacion.')\n",
    "whos image\n",
    "end"
   ]
  },
  {
   "cell_type": "markdown",
   "metadata": {},
   "source": [
    "## Cierre"
   ]
  },
  {
   "cell_type": "code",
   "execution_count": 15,
   "metadata": {},
   "outputs": [],
   "source": [
    "function Cierre(image, radio, name_SE);\n",
    "\n",
    "threshold = otsuMethod(image);\n",
    "templateBin = Binarization(image, threshold);\n",
    "% templateBin = image;\n",
    "\n",
    "[fEro,cEro] = size(templateBin);\n",
    "\n",
    "for i=1:fEro\n",
    "    for j=1:cEro\n",
    "        matrixErosion(i,j) = 255;\n",
    "        matrixDilatacion(i,j) = 255;\n",
    "    end\n",
    "end\n",
    "\n",
    "%DILATACION\n",
    "matrixDilatacion = DilatacionMatriz(templateBin, radio, name_SE);\n",
    "\n",
    "%EROSION\n",
    "matrixErosion = ErosionMatriz(matrixDilatacion, radio, name_SE);\n",
    "\n",
    "\n",
    "imageErosion = uint8(matrixErosion);\n",
    "imageDilatacion = uint8(matrixDilatacion);\n",
    "imageBin = uint8(templateBin);\n",
    "\n",
    "figure\n",
    "    subplot(1,3,1); imshow(image); title('Imagen Normal.')\n",
    "    subplot(1,3,2); imshow(imageBin); title('Binarizacion.')    \n",
    "    subplot(1,3,3); imshow(imageErosion); title('Cierre')\n",
    "whos image\n",
    "end"
   ]
  },
  {
   "cell_type": "markdown",
   "metadata": {},
   "source": [
    "## Apertura"
   ]
  },
  {
   "cell_type": "code",
   "execution_count": 16,
   "metadata": {},
   "outputs": [],
   "source": [
    "function Apertura(image, radio, name_SE);\n",
    "\n",
    "threshold = otsuMethod(image);\n",
    "templateBin = Binarization(image, threshold);\n",
    "% templateBin = image;\n",
    "\n",
    "[fEro,cEro]=size(templateBin);\n",
    "\n",
    "for i=1:fEro\n",
    "    for j=1:cEro\n",
    "        matrixErosion(i,j) = 255;\n",
    "        matrixDilatacion(i,j) = 255;\n",
    "    end\n",
    "end\n",
    "\n",
    "%EROSION\n",
    "matrixErosion = ErosionMatriz(templateBin, radio, name_SE);\n",
    "\n",
    "%DILATACION\n",
    "matrixDilatacion = DilatacionMatriz(matrixErosion, radio, name_SE);\n",
    "\n",
    "imageErosion = uint8(matrixErosion);\n",
    "imageDilatacion = uint8(matrixDilatacion);\n",
    "imageBin = uint8(templateBin);\n",
    "\n",
    "figure\n",
    "    subplot(1,4,1); imshow(image); title('Imagen Normal.')\n",
    "    subplot(1,4,2); imshow(imageBin); title('Binarizacion.')    \n",
    "    subplot(1,4,3); imshow(imageErosion); title('Erosion')\n",
    "    subplot(1,4,4); imshow(imageDilatacion); title('Dilatacion')\n",
    "whos image\n",
    "end"
   ]
  },
  {
   "cell_type": "code",
   "execution_count": null,
   "metadata": {},
   "outputs": [],
   "source": []
  },
  {
   "cell_type": "markdown",
   "metadata": {},
   "source": [
    "# DEMOS - Pruebas de funcionalidad"
   ]
  },
  {
   "cell_type": "code",
   "execution_count": null,
   "metadata": {},
   "outputs": [],
   "source": []
  },
  {
   "cell_type": "code",
   "execution_count": 26,
   "metadata": {},
   "outputs": [
    {
     "name": "stdout",
     "output_type": "stream",
     "text": [
      "warning: division by zero\n",
      "warning: called from\n",
      "    otsuMethod at line 38 column 16\n",
      "    Dilatacion at line 3 column 11\n",
      "fDil =  138\n",
      "cDil =  138\n",
      "Variables in the current scope:\n",
      "\n",
      "   Attr Name        Size                     Bytes  Class\n",
      "   ==== ====        ====                     =====  ===== \n",
      "    f   image     128x128                    16384  uint8\n",
      "\n",
      "Total is 16384 elements using 16384 bytes\n",
      "\n"
     ]
    },
    {
     "data": {
      "image/png": "[encoded data removed]",
      "text/plain": [
       "<IPython.core.display.Image object>"
      ]
     },
     "metadata": {},
     "output_type": "display_data"
    }
   ],
   "source": [
    "Dilatacion(IMG, 5, 'cuadrado')"
   ]
  },
  {
   "cell_type": "code",
   "execution_count": 27,
   "metadata": {},
   "outputs": [
    {
     "name": "stdout",
     "output_type": "stream",
     "text": [
      "warning: division by zero\n",
      "warning: called from\n",
      "    otsuMethod at line 38 column 16\n",
      "    Erosion at line 3 column 11\n",
      "Variables in the current scope:\n",
      "\n",
      "   Attr Name        Size                     Bytes  Class\n",
      "   ==== ====        ====                     =====  ===== \n",
      "    f   image     128x128                    16384  uint8\n",
      "\n",
      "Total is 16384 elements using 16384 bytes\n",
      "\n"
     ]
    },
    {
     "data": {
      "image/png": "[encoded data removed]",
      "text/plain": [
       "<IPython.core.display.Image object>"
      ]
     },
     "metadata": {},
     "output_type": "display_data"
    }
   ],
   "source": [
    "Erosion(IMG, 5, 'cuadrado')"
   ]
  },
  {
   "cell_type": "code",
   "execution_count": null,
   "metadata": {},
   "outputs": [],
   "source": []
  },
  {
   "cell_type": "code",
   "execution_count": null,
   "metadata": {},
   "outputs": [],
   "source": []
  },
  {
   "cell_type": "code",
   "execution_count": 28,
   "metadata": {},
   "outputs": [
    {
     "name": "stdout",
     "output_type": "stream",
     "text": [
      "warning: division by zero\n",
      "warning: called from\n",
      "    otsuMethod at line 38 column 16\n",
      "    Dilatacion at line 3 column 11\n",
      "fDil =  148\n",
      "cDil =  148\n",
      "Variables in the current scope:\n",
      "\n",
      "   Attr Name        Size                     Bytes  Class\n",
      "   ==== ====        ====                     =====  ===== \n",
      "    f   image     128x128                    16384  uint8\n",
      "\n",
      "Total is 16384 elements using 16384 bytes\n",
      "\n"
     ]
    },
    {
     "data": {
      "image/png": "[encoded data removed]",
      "text/plain": [
       "<IPython.core.display.Image object>"
      ]
     },
     "metadata": {},
     "output_type": "display_data"
    }
   ],
   "source": [
    "Dilatacion(IMG, 10, 'lineaV')"
   ]
  },
  {
   "cell_type": "code",
   "execution_count": null,
   "metadata": {},
   "outputs": [],
   "source": []
  },
  {
   "cell_type": "code",
   "execution_count": null,
   "metadata": {},
   "outputs": [],
   "source": []
  },
  {
   "cell_type": "code",
   "execution_count": null,
   "metadata": {},
   "outputs": [],
   "source": []
  },
  {
   "cell_type": "code",
   "execution_count": null,
   "metadata": {},
   "outputs": [],
   "source": []
  },
  {
   "cell_type": "code",
   "execution_count": 29,
   "metadata": {},
   "outputs": [
    {
     "name": "stdout",
     "output_type": "stream",
     "text": [
      "warning: division by zero\n",
      "warning: called from\n",
      "    otsuMethod at line 38 column 16\n",
      "    Erosion at line 3 column 11\n",
      "Variables in the current scope:\n",
      "\n",
      "   Attr Name        Size                     Bytes  Class\n",
      "   ==== ====        ====                     =====  ===== \n",
      "    f   image     128x128                    16384  uint8\n",
      "\n",
      "Total is 16384 elements using 16384 bytes\n",
      "\n"
     ]
    },
    {
     "data": {
      "image/png": "[encoded data removed]",
      "text/plain": [
       "<IPython.core.display.Image object>"
      ]
     },
     "metadata": {},
     "output_type": "display_data"
    }
   ],
   "source": [
    "Erosion(IMG, 5, 'lineaV')"
   ]
  },
  {
   "cell_type": "code",
   "execution_count": null,
   "metadata": {},
   "outputs": [],
   "source": []
  },
  {
   "cell_type": "code",
   "execution_count": null,
   "metadata": {},
   "outputs": [],
   "source": []
  },
  {
   "cell_type": "code",
   "execution_count": null,
   "metadata": {},
   "outputs": [],
   "source": []
  },
  {
   "cell_type": "code",
   "execution_count": 30,
   "metadata": {},
   "outputs": [
    {
     "name": "stdout",
     "output_type": "stream",
     "text": [
      "warning: division by zero\n",
      "warning: called from\n",
      "    otsuMethod at line 38 column 16\n",
      "    Dilatacion at line 3 column 11\n",
      "fDil =  138\n",
      "cDil =  138\n",
      "Variables in the current scope:\n",
      "\n",
      "   Attr Name        Size                     Bytes  Class\n",
      "   ==== ====        ====                     =====  ===== \n",
      "    f   image     128x128                    16384  uint8\n",
      "\n",
      "Total is 16384 elements using 16384 bytes\n",
      "\n"
     ]
    },
    {
     "data": {
      "image/png": "[encoded data removed]",
      "text/plain": [
       "<IPython.core.display.Image object>"
      ]
     },
     "metadata": {},
     "output_type": "display_data"
    }
   ],
   "source": [
    "Dilatacion(IMG, 5, 'cruz')"
   ]
  },
  {
   "cell_type": "code",
   "execution_count": null,
   "metadata": {},
   "outputs": [],
   "source": []
  },
  {
   "cell_type": "code",
   "execution_count": null,
   "metadata": {},
   "outputs": [],
   "source": []
  },
  {
   "cell_type": "code",
   "execution_count": null,
   "metadata": {},
   "outputs": [],
   "source": []
  },
  {
   "cell_type": "code",
   "execution_count": 31,
   "metadata": {},
   "outputs": [
    {
     "name": "stdout",
     "output_type": "stream",
     "text": [
      "warning: division by zero\n",
      "warning: called from\n",
      "    otsuMethod at line 38 column 16\n",
      "    Erosion at line 3 column 11\n",
      "Variables in the current scope:\n",
      "\n",
      "   Attr Name        Size                     Bytes  Class\n",
      "   ==== ====        ====                     =====  ===== \n",
      "    f   image     128x128                    16384  uint8\n",
      "\n",
      "Total is 16384 elements using 16384 bytes\n",
      "\n"
     ]
    },
    {
     "data": {
      "image/png": "[encoded data removed]",
      "text/plain": [
       "<IPython.core.display.Image object>"
      ]
     },
     "metadata": {},
     "output_type": "display_data"
    }
   ],
   "source": [
    "Erosion(IMG, 7, 'cruz')"
   ]
  },
  {
   "cell_type": "code",
   "execution_count": 33,
   "metadata": {},
   "outputs": [],
   "source": [
    "% Cierre(IMG, 27, 'cruz')"
   ]
  },
  {
   "cell_type": "code",
   "execution_count": 34,
   "metadata": {},
   "outputs": [
    {
     "name": "stdout",
     "output_type": "stream",
     "text": [
      "warning: division by zero\n",
      "warning: called from\n",
      "    otsuMethod at line 38 column 16\n",
      "    Erosion at line 3 column 11\n",
      "Variables in the current scope:\n",
      "\n",
      "   Attr Name        Size                     Bytes  Class\n",
      "   ==== ====        ====                     =====  ===== \n",
      "    f   image     128x128                    16384  uint8\n",
      "\n",
      "Total is 16384 elements using 16384 bytes\n",
      "\n"
     ]
    },
    {
     "data": {
      "image/png": "[encoded data removed]",
      "text/plain": [
       "<IPython.core.display.Image object>"
      ]
     },
     "metadata": {},
     "output_type": "display_data"
    }
   ],
   "source": [
    "Erosion(IMG, 5, 'lineaH')"
   ]
  },
  {
   "cell_type": "code",
   "execution_count": null,
   "metadata": {},
   "outputs": [],
   "source": []
  },
  {
   "cell_type": "code",
   "execution_count": null,
   "metadata": {},
   "outputs": [],
   "source": []
  },
  {
   "cell_type": "code",
   "execution_count": null,
   "metadata": {},
   "outputs": [],
   "source": []
  },
  {
   "cell_type": "code",
   "execution_count": 35,
   "metadata": {},
   "outputs": [
    {
     "name": "stdout",
     "output_type": "stream",
     "text": [
      "warning: division by zero\n",
      "warning: called from\n",
      "    otsuMethod at line 38 column 16\n",
      "    Dilatacion at line 3 column 11\n",
      "fDil =  138\n",
      "cDil =  138\n",
      "Variables in the current scope:\n",
      "\n",
      "   Attr Name        Size                     Bytes  Class\n",
      "   ==== ====        ====                     =====  ===== \n",
      "    f   image     128x128                    16384  uint8\n",
      "\n",
      "Total is 16384 elements using 16384 bytes\n",
      "\n"
     ]
    },
    {
     "data": {
      "image/png": "[encoded data removed]",
      "text/plain": [
       "<IPython.core.display.Image object>"
      ]
     },
     "metadata": {},
     "output_type": "display_data"
    }
   ],
   "source": [
    "Dilatacion(IMG, 5, 'lineaH')"
   ]
  },
  {
   "cell_type": "code",
   "execution_count": 36,
   "metadata": {},
   "outputs": [
    {
     "name": "stdout",
     "output_type": "stream",
     "text": [
      "\u001b[0m\u001b[01;35mboat.png\u001b[0m       \u001b[01;35mcoins.png\u001b[0m   \u001b[01;35mhouse.png\u001b[0m    \u001b[01;35mimagen2.png\u001b[0m  \u001b[01;35mpout.png\u001b[0m\r\n",
      "\u001b[01;35mcameraman.png\u001b[0m  \u001b[01;35mhands1.png\u001b[0m  \u001b[01;35mimagen1.png\u001b[0m  \u001b[01;35mparrot.png\u001b[0m   \u001b[01;35mwestconcordorthophoto.png\u001b[0m\r\n",
      "\n"
     ]
    }
   ],
   "source": [
    "!ls ./images/"
   ]
  },
  {
   "cell_type": "code",
   "execution_count": 6,
   "metadata": {},
   "outputs": [],
   "source": [
    "alt_img = imread('./images/coins.png');"
   ]
  },
  {
   "cell_type": "code",
   "execution_count": 14,
   "metadata": {},
   "outputs": [
    {
     "name": "stdout",
     "output_type": "stream",
     "text": [
      "error: 'Cierre' undefined near line 1 column 1\r\n"
     ]
    }
   ],
   "source": [
    "Cierre(alt_img, 7, 'cuadrado')"
   ]
  },
  {
   "cell_type": "code",
   "execution_count": null,
   "metadata": {},
   "outputs": [],
   "source": []
  },
  {
   "cell_type": "code",
   "execution_count": 7,
   "metadata": {
    "scrolled": false
   },
   "outputs": [
    {
     "name": "stdout",
     "output_type": "stream",
     "text": [
      "warning: division by zero\r\n",
      "warning: called from\r\n",
      "    otsuMethod at line 38 column 16\r\n",
      "ans =  127\r\n"
     ]
    }
   ],
   "source": [
    "otsuMethod(alt_img)"
   ]
  },
  {
   "cell_type": "code",
   "execution_count": 13,
   "metadata": {
    "scrolled": false
   },
   "outputs": [
    {
     "data": {
      "image/png": "[encoded data removed]",
      "text/plain": [
       "<IPython.core.display.Image object>"
      ]
     },
     "metadata": {},
     "output_type": "display_data"
    }
   ],
   "source": [
    "imshow(Binarization(alt_img, 160))"
   ]
  },
  {
   "cell_type": "code",
   "execution_count": null,
   "metadata": {},
   "outputs": [],
   "source": []
  },
  {
   "cell_type": "code",
   "execution_count": 18,
   "metadata": {},
   "outputs": [],
   "source": [
    "function output = SE_Square_Dilatation(matrix, radio, posX, posY);\n",
    "radio__ = round(radio/2)-1;\n",
    "\n",
    "minX = posX - radio__;\n",
    "minY = posY - radio__;\n",
    "\n",
    "for i = 1 : radio\n",
    "    for j = 1 : radio\n",
    "        matrix(minX + i-1,minY + j-1) = 0;\n",
    "    end\n",
    "end\n",
    "\n",
    "output = matrix;\n",
    "end"
   ]
  },
  {
   "cell_type": "code",
   "execution_count": 19,
   "metadata": {},
   "outputs": [],
   "source": [
    "function output = SE_HorizontalLine_Dilatation(matrixIn, radio, posX, posY);\n",
    "\n",
    "for i=1:radio\n",
    "    matrixIn(posX,posY+i-1) = 0;\n",
    "end\n",
    "\n",
    "output = matrixIn;\n",
    "end"
   ]
  },
  {
   "cell_type": "code",
   "execution_count": 20,
   "metadata": {},
   "outputs": [],
   "source": [
    "function output = SE_Square_Erosion(matrixIn, radio);\n",
    "aux = round(radio/2);\n",
    "contSE = (radio*2)-1;\n",
    "contVer = 0;\n",
    "band = false;\n",
    "nSquare = radio*radio;\n",
    "\n",
    "for i=1:radio\n",
    "    for j=1:radio\n",
    "        SE(i,j) = 0;\n",
    "    end\n",
    "end\n",
    "\n",
    "for i=1:radio\n",
    "    for j=1:radio\n",
    "        if matrixIn(i,j) == 0 \n",
    "            contVer = contVer + 1;\n",
    "        end\n",
    "    end\n",
    "end\n",
    "\n",
    "if contVer == nSquare \n",
    "    band = true;\n",
    "end\n",
    "\n",
    "\n",
    "output = band;\n",
    "end"
   ]
  },
  {
   "cell_type": "code",
   "execution_count": 21,
   "metadata": {},
   "outputs": [],
   "source": [
    "function output = SE_HorizontalLine_Erosion(matrixIn, radio);\n",
    "contVer = 0;\n",
    "band = false;\n",
    "\n",
    "for j=1:radio\n",
    "    if matrixIn(1,j) == 0\n",
    "       contVer = contVer + 1;\n",
    "    end\n",
    "end\n",
    "\n",
    "\n",
    "if contVer == radio \n",
    "    band = true;\n",
    "end\n",
    "\n",
    "\n",
    "output = band;\n",
    "end"
   ]
  },
  {
   "cell_type": "code",
   "execution_count": 22,
   "metadata": {},
   "outputs": [],
   "source": [
    "function output = SE_Cross_Erosion(matrixIn, radio);\n",
    "aux = round(radio/2);\n",
    "contSE = (radio*2)-1;\n",
    "contVer = 0;\n",
    "band = false;\n",
    "\n",
    "for i=1:radio\n",
    "    for j=1:radio\n",
    "        SE(i,j) = 255;\n",
    "    end\n",
    "end\n",
    "\n",
    "for i=1:radio\n",
    "    SE(aux,i) = 0;\n",
    "    SE(i,aux) = 0;\n",
    "end\n",
    "\n",
    "for i=1:radio\n",
    "    for j=1:radio\n",
    "        if matrixIn(i,j) == 0 && SE(i,j) == 0\n",
    "            contVer = contVer + 1;\n",
    "        end\n",
    "    end\n",
    "end\n",
    "\n",
    "if contVer == contSE \n",
    "    band = true;\n",
    "end\n",
    "\n",
    "\n",
    "output = band;\n",
    "end"
   ]
  },
  {
   "cell_type": "code",
   "execution_count": 23,
   "metadata": {},
   "outputs": [],
   "source": [
    "function output = SE_Cross_Dilatation(matrix, radio, posX, posY);\n",
    "radio__ = round(radio/2)-1;\n",
    "\n",
    "freeSquares = radio - radio__;\n",
    "minX = posX - freeSquares;\n",
    "minY = posY - freeSquares;\n",
    "\n",
    "for i=1:radio\n",
    "    matrix(i+minX,posY) = 0; %horizontal\n",
    "    matrix(posX,i+minY) = 0; %vertical\n",
    "end\n",
    "\n",
    "output = matrix;\n",
    "end"
   ]
  },
  {
   "cell_type": "code",
   "execution_count": 24,
   "metadata": {},
   "outputs": [],
   "source": [
    "function output = SE_VerticalLine_Dilatation(matrixIn, radio, posX, posY);\n",
    "\n",
    "for i=1:radio\n",
    "    matrixIn(i+posX-1,posY) = 0;\n",
    "end\n",
    "output = matrixIn;\n",
    "end"
   ]
  },
  {
   "cell_type": "code",
   "execution_count": 25,
   "metadata": {},
   "outputs": [],
   "source": [
    "function output = SE_VerticalLine_Erosion(matrixIn, radio);\n",
    "contVer = 0;\n",
    "band = false;\n",
    "\n",
    "for j=1:radio\n",
    "    if matrixIn(j,1) == 0\n",
    "       contVer = contVer + 1;\n",
    "    end\n",
    "end\n",
    "\n",
    "\n",
    "if contVer == radio \n",
    "    band = true;\n",
    "end\n",
    "\n",
    "\n",
    "output = band;\n",
    "end"
   ]
  },
  {
   "cell_type": "code",
   "execution_count": null,
   "metadata": {},
   "outputs": [],
   "source": []
  },
  {
   "cell_type": "code",
   "execution_count": null,
   "metadata": {},
   "outputs": [],
   "source": []
  }
 ],
 "metadata": {
  "kernelspec": {
   "display_name": "Octave",
   "language": "octave",
   "name": "octave"
  },
  "language_info": {
   "file_extension": ".m",
   "help_links": [
    {
     "text": "GNU Octave",
     "url": "https://www.gnu.org/software/octave/support.html"
    },
    {
     "text": "Octave Kernel",
     "url": "https://github.com/Calysto/octave_kernel"
    },
    {
     "text": "MetaKernel Magics",
     "url": "https://metakernel.readthedocs.io/en/latest/source/README.html"
    }
   ],
   "mimetype": "text/x-octave",
   "name": "octave",
   "version": "5.2.0"
  }
 },
 "nbformat": 4,
 "nbformat_minor": 4
}
