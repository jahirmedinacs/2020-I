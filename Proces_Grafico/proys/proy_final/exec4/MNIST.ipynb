{
 "cells": [
  {
   "cell_type": "code",
   "execution_count": 1,
   "metadata": {},
   "outputs": [],
   "source": [
    "from matplotlib import pyplot as plt\n",
    "import numpy as np\n",
    "import pandas as pd\n",
    "\n",
    "from copy import copy as copy\n",
    "\n",
    "import os\n",
    "import sys\n",
    "\n",
    "import pprint"
   ]
  },
  {
   "cell_type": "code",
   "execution_count": 2,
   "metadata": {},
   "outputs": [],
   "source": [
    "import tensorflow as tf\n",
    "from tensorflow import keras"
   ]
  },
  {
   "cell_type": "code",
   "execution_count": 3,
   "metadata": {
    "scrolled": false
   },
   "outputs": [
    {
     "name": "stdout",
     "output_type": "stream",
     "text": [
      "[name: \"/device:CPU:0\"\n",
      "device_type: \"CPU\"\n",
      "memory_limit: 268435456\n",
      "locality {\n",
      "}\n",
      "incarnation: 4377855149223752945\n",
      ", name: \"/device:XLA_CPU:0\"\n",
      "device_type: \"XLA_CPU\"\n",
      "memory_limit: 17179869184\n",
      "locality {\n",
      "}\n",
      "incarnation: 10708347382275746571\n",
      "physical_device_desc: \"device: XLA_CPU device\"\n",
      ", name: \"/device:XLA_GPU:0\"\n",
      "device_type: \"XLA_GPU\"\n",
      "memory_limit: 17179869184\n",
      "locality {\n",
      "}\n",
      "incarnation: 5971997687326935342\n",
      "physical_device_desc: \"device: XLA_GPU device\"\n",
      ", name: \"/device:GPU:0\"\n",
      "device_type: \"GPU\"\n",
      "memory_limit: 5563812416\n",
      "locality {\n",
      "  bus_id: 1\n",
      "  links {\n",
      "  }\n",
      "}\n",
      "incarnation: 10111675476147077504\n",
      "physical_device_desc: \"device: 0, name: GeForce GTX 1060 6GB, pci bus id: 0000:1f:00.0, compute capability: 6.1\"\n",
      "]\n"
     ]
    }
   ],
   "source": [
    "from tensorflow.python.client import device_lib\n",
    "print(device_lib.list_local_devices())"
   ]
  },
  {
   "cell_type": "code",
   "execution_count": null,
   "metadata": {},
   "outputs": [],
   "source": []
  },
  {
   "cell_type": "code",
   "execution_count": null,
   "metadata": {
    "scrolled": true
   },
   "outputs": [],
   "source": []
  },
  {
   "cell_type": "code",
   "execution_count": 4,
   "metadata": {},
   "outputs": [],
   "source": [
    "import keras\n",
    "from keras import backend as K"
   ]
  },
  {
   "cell_type": "code",
   "execution_count": null,
   "metadata": {},
   "outputs": [],
   "source": []
  },
  {
   "cell_type": "code",
   "execution_count": null,
   "metadata": {},
   "outputs": [],
   "source": []
  },
  {
   "cell_type": "code",
   "execution_count": 6,
   "metadata": {},
   "outputs": [],
   "source": [
    "from keras.datasets import mnist"
   ]
  },
  {
   "cell_type": "code",
   "execution_count": 7,
   "metadata": {},
   "outputs": [],
   "source": [
    "PLOT = True\n",
    "NUM_OF_CLASS = 10\n",
    "VERBOSE = True"
   ]
  },
  {
   "cell_type": "code",
   "execution_count": 8,
   "metadata": {},
   "outputs": [],
   "source": [
    "from keras.models import Sequential\n",
    "from keras.layers import Dense, Conv2D, MaxPooling2D, Dropout, Flatten\n",
    "\n",
    "import keras.utils"
   ]
  },
  {
   "cell_type": "code",
   "execution_count": null,
   "metadata": {},
   "outputs": [],
   "source": []
  },
  {
   "cell_type": "code",
   "execution_count": 9,
   "metadata": {},
   "outputs": [
    {
     "name": "stdout",
     "output_type": "stream",
     "text": [
      "Input_train shape: (60000, 28, 28, 1)\n",
      "60000 train samples\n",
      "10000 test samples\n"
     ]
    }
   ],
   "source": [
    "# The data, split between train and test sets:\n",
    "(Input_train, Objetive_train), (Input_test, Objetive_test) = mnist.load_data()\n",
    "\n",
    "Input_train = Input_train.reshape(tuple(list(Input_train.shape) + [1]))\n",
    "Input_test = Input_test.reshape(tuple(list(Input_test.shape) + [1]))\n",
    "\n",
    "print('Input_train shape:', Input_train.shape)\n",
    "print(Input_train.shape[0], 'train samples')\n",
    "print(Input_test.shape[0], 'test samples')"
   ]
  },
  {
   "cell_type": "code",
   "execution_count": 10,
   "metadata": {},
   "outputs": [],
   "source": [
    "# Convert class vectors to binary class matrices.\n",
    "Objetive_train = keras.utils.to_categorical(Objetive_train, NUM_OF_CLASS)\n",
    "Objetive_test = keras.utils.to_categorical(Objetive_test, NUM_OF_CLASS)"
   ]
  },
  {
   "cell_type": "code",
   "execution_count": 22,
   "metadata": {},
   "outputs": [],
   "source": [
    "#Architecture\n",
    "def createModel(input_shape, nClasses):\n",
    "    model = Sequential()\n",
    "    \n",
    "    model.add(Conv2D(25, (2, 2), padding='same', activation='relu', input_shape=input_shape))\n",
    "    model.add(Conv2D(20, (2, 2), activation='relu'))\n",
    "    model.add(MaxPooling2D(pool_size=(2, 2)))\n",
    "    model.add(Dropout(0.1))\n",
    "    \n",
    "    model.add(Conv2D(48, (2, 2), padding='same', activation='selu'))\n",
    "    model.add(Conv2D(48, (4, 4), activation='relu'))\n",
    "    model.add(MaxPooling2D(pool_size=(2, 2)))\n",
    "    model.add(Dropout(0.3))\n",
    "    \n",
    "    model.add(Conv2D(64, (3, 3), padding='same', activation='relu'))\n",
    "    model.add(Conv2D(64, (3, 3), activation='selu'))\n",
    "    model.add(MaxPooling2D(pool_size=(2, 2)))\n",
    "    model.add(Dropout(0.3))\n",
    " \n",
    "    model.add(Flatten())\n",
    "    model.add(Dense(500, activation='selu'))\n",
    "    model.add(Dropout(0.8))\n",
    "    model.add(Dense(300, activation='relu'))\n",
    "    model.add(Dropout(0.4))\n",
    "    model.add(Dense(nClasses, activation='softmax'))\n",
    "     \n",
    "    return model"
   ]
  },
  {
   "cell_type": "code",
   "execution_count": null,
   "metadata": {},
   "outputs": [],
   "source": []
  },
  {
   "cell_type": "code",
   "execution_count": 31,
   "metadata": {},
   "outputs": [],
   "source": [
    "## Train Parameters\n",
    "\n",
    "epochs = 100\n",
    "batch_size = 1000\n",
    "\n",
    "###\n",
    "\n",
    "output_model = createModel(Input_train.shape[1:], NUM_OF_CLASS)\n",
    "output_model.compile(optimizer='adadelta', loss='categorical_crossentropy', metrics=['accuracy'])"
   ]
  },
  {
   "cell_type": "code",
   "execution_count": 32,
   "metadata": {},
   "outputs": [
    {
     "name": "stdout",
     "output_type": "stream",
     "text": [
      "Model: \"sequential_2\"\n",
      "_________________________________________________________________\n",
      "Layer (type)                 Output Shape              Param #   \n",
      "=================================================================\n",
      "conv2d_8 (Conv2D)            (None, 28, 28, 25)        125       \n",
      "_________________________________________________________________\n",
      "conv2d_9 (Conv2D)            (None, 27, 27, 20)        2020      \n",
      "_________________________________________________________________\n",
      "max_pooling2d_4 (MaxPooling2 (None, 13, 13, 20)        0         \n",
      "_________________________________________________________________\n",
      "dropout_6 (Dropout)          (None, 13, 13, 20)        0         \n",
      "_________________________________________________________________\n",
      "conv2d_10 (Conv2D)           (None, 13, 13, 48)        3888      \n",
      "_________________________________________________________________\n",
      "conv2d_11 (Conv2D)           (None, 10, 10, 48)        36912     \n",
      "_________________________________________________________________\n",
      "max_pooling2d_5 (MaxPooling2 (None, 5, 5, 48)          0         \n",
      "_________________________________________________________________\n",
      "dropout_7 (Dropout)          (None, 5, 5, 48)          0         \n",
      "_________________________________________________________________\n",
      "conv2d_12 (Conv2D)           (None, 5, 5, 64)          27712     \n",
      "_________________________________________________________________\n",
      "conv2d_13 (Conv2D)           (None, 3, 3, 64)          36928     \n",
      "_________________________________________________________________\n",
      "max_pooling2d_6 (MaxPooling2 (None, 1, 1, 64)          0         \n",
      "_________________________________________________________________\n",
      "dropout_8 (Dropout)          (None, 1, 1, 64)          0         \n",
      "_________________________________________________________________\n",
      "flatten_2 (Flatten)          (None, 64)                0         \n",
      "_________________________________________________________________\n",
      "dense_4 (Dense)              (None, 500)               32500     \n",
      "_________________________________________________________________\n",
      "dropout_9 (Dropout)          (None, 500)               0         \n",
      "_________________________________________________________________\n",
      "dense_5 (Dense)              (None, 300)               150300    \n",
      "_________________________________________________________________\n",
      "dropout_10 (Dropout)         (None, 300)               0         \n",
      "_________________________________________________________________\n",
      "dense_6 (Dense)              (None, 10)                3010      \n",
      "=================================================================\n",
      "Total params: 293,395\n",
      "Trainable params: 293,395\n",
      "Non-trainable params: 0\n",
      "_________________________________________________________________\n"
     ]
    }
   ],
   "source": [
    "output_model.summary()"
   ]
  },
  {
   "cell_type": "code",
   "execution_count": 33,
   "metadata": {
    "scrolled": false
   },
   "outputs": [
    {
     "name": "stdout",
     "output_type": "stream",
     "text": [
      "Epoch 1/100\n",
      " 1/60 [..............................] - ETA: 2s - loss: 27.1546 - accuracy: 0.1060WARNING:tensorflow:Callbacks method `on_train_batch_end` is slow compared to the batch time (batch time: 0.0052s vs `on_train_batch_end` time: 0.0410s). Check your callbacks.\n",
      "59/60 [============================>.] - ETA: 0s - loss: 25.7400 - accuracy: 0.1001WARNING:tensorflow:Callbacks method `on_test_batch_end` is slow compared to the batch time (batch time: 0.0013s vs `on_test_batch_end` time: 0.0112s). Check your callbacks.\n",
      "60/60 [==============================] - 3s 47ms/step - loss: 25.7212 - accuracy: 0.1001 - val_loss: 5.9114 - val_accuracy: 0.1159\n",
      "Epoch 2/100\n",
      "60/60 [==============================] - 3s 44ms/step - loss: 23.6936 - accuracy: 0.0989 - val_loss: 5.2841 - val_accuracy: 0.1187\n",
      "Epoch 3/100\n",
      "60/60 [==============================] - 3s 44ms/step - loss: 21.7813 - accuracy: 0.0975 - val_loss: 4.7406 - val_accuracy: 0.1224\n",
      "Epoch 4/100\n",
      "60/60 [==============================] - 3s 44ms/step - loss: 20.1454 - accuracy: 0.1001 - val_loss: 4.2796 - val_accuracy: 0.1248\n",
      "Epoch 5/100\n",
      "60/60 [==============================] - 3s 44ms/step - loss: 18.6960 - accuracy: 0.1005 - val_loss: 3.8817 - val_accuracy: 0.1291\n",
      "Epoch 6/100\n",
      "60/60 [==============================] - 3s 44ms/step - loss: 17.2944 - accuracy: 0.0992 - val_loss: 3.5447 - val_accuracy: 0.1352\n",
      "Epoch 7/100\n",
      "60/60 [==============================] - 3s 44ms/step - loss: 16.0925 - accuracy: 0.0999 - val_loss: 3.2586 - val_accuracy: 0.1411\n",
      "Epoch 8/100\n",
      "60/60 [==============================] - 3s 44ms/step - loss: 15.0209 - accuracy: 0.0994 - val_loss: 3.0191 - val_accuracy: 0.1403\n",
      "Epoch 9/100\n",
      "60/60 [==============================] - 3s 44ms/step - loss: 13.9268 - accuracy: 0.1024 - val_loss: 2.8356 - val_accuracy: 0.1395\n",
      "Epoch 10/100\n",
      "60/60 [==============================] - 3s 44ms/step - loss: 13.0877 - accuracy: 0.1045 - val_loss: 2.6917 - val_accuracy: 0.1436\n",
      "Epoch 11/100\n",
      "60/60 [==============================] - 3s 44ms/step - loss: 12.3779 - accuracy: 0.1021 - val_loss: 2.5819 - val_accuracy: 0.1533\n",
      "Epoch 12/100\n",
      "60/60 [==============================] - 3s 44ms/step - loss: 11.5679 - accuracy: 0.1043 - val_loss: 2.4992 - val_accuracy: 0.1616\n",
      "Epoch 13/100\n",
      "60/60 [==============================] - 3s 44ms/step - loss: 10.9121 - accuracy: 0.1014 - val_loss: 2.4399 - val_accuracy: 0.1705\n",
      "Epoch 14/100\n",
      "60/60 [==============================] - 3s 44ms/step - loss: 10.3199 - accuracy: 0.1045 - val_loss: 2.3961 - val_accuracy: 0.1794\n",
      "Epoch 15/100\n",
      "60/60 [==============================] - 3s 44ms/step - loss: 9.8039 - accuracy: 0.1043 - val_loss: 2.3619 - val_accuracy: 0.1818\n",
      "Epoch 16/100\n",
      "60/60 [==============================] - 3s 44ms/step - loss: 9.3065 - accuracy: 0.1042 - val_loss: 2.3347 - val_accuracy: 0.1818\n",
      "Epoch 17/100\n",
      "60/60 [==============================] - 3s 44ms/step - loss: 8.8598 - accuracy: 0.1051 - val_loss: 2.3123 - val_accuracy: 0.1847\n",
      "Epoch 18/100\n",
      "60/60 [==============================] - 3s 44ms/step - loss: 8.4503 - accuracy: 0.1044 - val_loss: 2.2927 - val_accuracy: 0.1855\n",
      "Epoch 19/100\n",
      "60/60 [==============================] - 3s 44ms/step - loss: 8.1184 - accuracy: 0.1047 - val_loss: 2.2738 - val_accuracy: 0.1855\n",
      "Epoch 20/100\n",
      "60/60 [==============================] - 3s 44ms/step - loss: 7.7723 - accuracy: 0.1060 - val_loss: 2.2577 - val_accuracy: 0.1864\n",
      "Epoch 21/100\n",
      "60/60 [==============================] - 3s 44ms/step - loss: 7.4523 - accuracy: 0.1050 - val_loss: 2.2424 - val_accuracy: 0.1889\n",
      "Epoch 22/100\n",
      "60/60 [==============================] - 3s 44ms/step - loss: 7.1847 - accuracy: 0.1068 - val_loss: 2.2281 - val_accuracy: 0.1925\n",
      "Epoch 23/100\n",
      "60/60 [==============================] - 3s 44ms/step - loss: 6.9452 - accuracy: 0.1062 - val_loss: 2.2137 - val_accuracy: 0.1934\n",
      "Epoch 24/100\n",
      "60/60 [==============================] - 3s 44ms/step - loss: 6.6967 - accuracy: 0.1066 - val_loss: 2.2000 - val_accuracy: 0.1953\n",
      "Epoch 25/100\n",
      "60/60 [==============================] - 3s 44ms/step - loss: 6.4725 - accuracy: 0.1076 - val_loss: 2.1875 - val_accuracy: 0.1981\n",
      "Epoch 26/100\n",
      "60/60 [==============================] - 3s 44ms/step - loss: 6.2534 - accuracy: 0.1095 - val_loss: 2.1755 - val_accuracy: 0.2013\n",
      "Epoch 27/100\n",
      "60/60 [==============================] - 3s 44ms/step - loss: 6.0936 - accuracy: 0.1091 - val_loss: 2.1650 - val_accuracy: 0.2059\n",
      "Epoch 28/100\n",
      "60/60 [==============================] - 3s 44ms/step - loss: 5.9015 - accuracy: 0.1128 - val_loss: 2.1548 - val_accuracy: 0.2118\n",
      "Epoch 29/100\n",
      "60/60 [==============================] - 3s 44ms/step - loss: 5.7295 - accuracy: 0.1086 - val_loss: 2.1450 - val_accuracy: 0.2203\n",
      "Epoch 30/100\n",
      "60/60 [==============================] - 3s 44ms/step - loss: 5.5774 - accuracy: 0.1133 - val_loss: 2.1368 - val_accuracy: 0.2275\n",
      "Epoch 31/100\n",
      "60/60 [==============================] - 3s 44ms/step - loss: 5.4828 - accuracy: 0.1127 - val_loss: 2.1283 - val_accuracy: 0.2346\n",
      "Epoch 32/100\n",
      "60/60 [==============================] - 3s 44ms/step - loss: 5.3616 - accuracy: 0.1112 - val_loss: 2.1202 - val_accuracy: 0.2415\n",
      "Epoch 33/100\n",
      "60/60 [==============================] - 3s 44ms/step - loss: 5.2399 - accuracy: 0.1125 - val_loss: 2.1114 - val_accuracy: 0.2496\n",
      "Epoch 34/100\n",
      "60/60 [==============================] - 3s 44ms/step - loss: 5.1056 - accuracy: 0.1156 - val_loss: 2.1035 - val_accuracy: 0.2587\n",
      "Epoch 35/100\n",
      "60/60 [==============================] - 3s 44ms/step - loss: 5.0197 - accuracy: 0.1144 - val_loss: 2.0966 - val_accuracy: 0.2657\n",
      "Epoch 36/100\n",
      "60/60 [==============================] - 3s 44ms/step - loss: 4.8986 - accuracy: 0.1152 - val_loss: 2.0892 - val_accuracy: 0.2728\n",
      "Epoch 37/100\n",
      "60/60 [==============================] - 3s 44ms/step - loss: 4.8138 - accuracy: 0.1168 - val_loss: 2.0818 - val_accuracy: 0.2815\n",
      "Epoch 38/100\n",
      "60/60 [==============================] - 3s 44ms/step - loss: 4.7316 - accuracy: 0.1155 - val_loss: 2.0750 - val_accuracy: 0.2880\n",
      "Epoch 39/100\n",
      "60/60 [==============================] - 3s 44ms/step - loss: 4.6595 - accuracy: 0.1183 - val_loss: 2.0677 - val_accuracy: 0.2932\n",
      "Epoch 40/100\n",
      "60/60 [==============================] - 3s 44ms/step - loss: 4.5713 - accuracy: 0.1178 - val_loss: 2.0618 - val_accuracy: 0.2990\n",
      "Epoch 41/100\n",
      "60/60 [==============================] - 3s 44ms/step - loss: 4.5244 - accuracy: 0.1160 - val_loss: 2.0553 - val_accuracy: 0.3047\n",
      "Epoch 42/100\n",
      "60/60 [==============================] - 3s 44ms/step - loss: 4.4327 - accuracy: 0.1204 - val_loss: 2.0489 - val_accuracy: 0.3108\n",
      "Epoch 43/100\n",
      "60/60 [==============================] - 3s 44ms/step - loss: 4.4048 - accuracy: 0.1198 - val_loss: 2.0428 - val_accuracy: 0.3155\n",
      "Epoch 44/100\n",
      "60/60 [==============================] - 3s 44ms/step - loss: 4.3027 - accuracy: 0.1207 - val_loss: 2.0371 - val_accuracy: 0.3197\n",
      "Epoch 45/100\n",
      "60/60 [==============================] - 3s 44ms/step - loss: 4.2600 - accuracy: 0.1196 - val_loss: 2.0311 - val_accuracy: 0.3249\n",
      "Epoch 46/100\n",
      "60/60 [==============================] - 3s 44ms/step - loss: 4.2387 - accuracy: 0.1188 - val_loss: 2.0261 - val_accuracy: 0.3315\n",
      "Epoch 47/100\n",
      "60/60 [==============================] - 3s 44ms/step - loss: 4.1644 - accuracy: 0.1207 - val_loss: 2.0208 - val_accuracy: 0.3359\n",
      "Epoch 48/100\n",
      "60/60 [==============================] - 3s 44ms/step - loss: 4.1245 - accuracy: 0.1229 - val_loss: 2.0159 - val_accuracy: 0.3388\n",
      "Epoch 49/100\n",
      "60/60 [==============================] - 3s 44ms/step - loss: 4.0749 - accuracy: 0.1238 - val_loss: 2.0107 - val_accuracy: 0.3440\n",
      "Epoch 50/100\n",
      "60/60 [==============================] - 3s 44ms/step - loss: 4.0101 - accuracy: 0.1255 - val_loss: 2.0064 - val_accuracy: 0.3474\n",
      "Epoch 51/100\n",
      "60/60 [==============================] - 3s 44ms/step - loss: 3.9863 - accuracy: 0.1250 - val_loss: 2.0018 - val_accuracy: 0.3509\n",
      "Epoch 52/100\n",
      "60/60 [==============================] - 3s 44ms/step - loss: 3.9471 - accuracy: 0.1251 - val_loss: 1.9980 - val_accuracy: 0.3555\n",
      "Epoch 53/100\n",
      "60/60 [==============================] - 3s 44ms/step - loss: 3.8901 - accuracy: 0.1305 - val_loss: 1.9938 - val_accuracy: 0.3616\n",
      "Epoch 54/100\n"
     ]
    },
    {
     "name": "stdout",
     "output_type": "stream",
     "text": [
      "60/60 [==============================] - 3s 44ms/step - loss: 3.8581 - accuracy: 0.1271 - val_loss: 1.9896 - val_accuracy: 0.3645\n",
      "Epoch 55/100\n",
      "60/60 [==============================] - 3s 44ms/step - loss: 3.8178 - accuracy: 0.1289 - val_loss: 1.9865 - val_accuracy: 0.3660\n",
      "Epoch 56/100\n",
      "60/60 [==============================] - 3s 44ms/step - loss: 3.7768 - accuracy: 0.1294 - val_loss: 1.9833 - val_accuracy: 0.3713\n",
      "Epoch 57/100\n",
      "60/60 [==============================] - 3s 44ms/step - loss: 3.7306 - accuracy: 0.1297 - val_loss: 1.9801 - val_accuracy: 0.3737\n",
      "Epoch 58/100\n",
      "60/60 [==============================] - 3s 44ms/step - loss: 3.7032 - accuracy: 0.1306 - val_loss: 1.9765 - val_accuracy: 0.3778\n",
      "Epoch 59/100\n",
      "60/60 [==============================] - 3s 44ms/step - loss: 3.6764 - accuracy: 0.1304 - val_loss: 1.9733 - val_accuracy: 0.3847\n",
      "Epoch 60/100\n",
      "60/60 [==============================] - 3s 44ms/step - loss: 3.6280 - accuracy: 0.1331 - val_loss: 1.9705 - val_accuracy: 0.3876\n",
      "Epoch 61/100\n",
      "60/60 [==============================] - 3s 44ms/step - loss: 3.6057 - accuracy: 0.1327 - val_loss: 1.9683 - val_accuracy: 0.3905\n",
      "Epoch 62/100\n",
      "60/60 [==============================] - 3s 44ms/step - loss: 3.5804 - accuracy: 0.1321 - val_loss: 1.9660 - val_accuracy: 0.3964\n",
      "Epoch 63/100\n",
      "60/60 [==============================] - 3s 44ms/step - loss: 3.5349 - accuracy: 0.1334 - val_loss: 1.9633 - val_accuracy: 0.3984\n",
      "Epoch 64/100\n",
      "60/60 [==============================] - 3s 44ms/step - loss: 3.5124 - accuracy: 0.1359 - val_loss: 1.9605 - val_accuracy: 0.4040\n",
      "Epoch 65/100\n",
      "60/60 [==============================] - 3s 44ms/step - loss: 3.4843 - accuracy: 0.1317 - val_loss: 1.9586 - val_accuracy: 0.4065\n",
      "Epoch 66/100\n",
      "60/60 [==============================] - 3s 44ms/step - loss: 3.4609 - accuracy: 0.1355 - val_loss: 1.9572 - val_accuracy: 0.4085\n",
      "Epoch 67/100\n",
      "60/60 [==============================] - 3s 44ms/step - loss: 3.4158 - accuracy: 0.1375 - val_loss: 1.9558 - val_accuracy: 0.4123\n",
      "Epoch 68/100\n",
      "60/60 [==============================] - 3s 44ms/step - loss: 3.3858 - accuracy: 0.1357 - val_loss: 1.9545 - val_accuracy: 0.4134\n",
      "Epoch 69/100\n",
      "60/60 [==============================] - 3s 44ms/step - loss: 3.3718 - accuracy: 0.1347 - val_loss: 1.9529 - val_accuracy: 0.4161\n",
      "Epoch 70/100\n",
      "60/60 [==============================] - 3s 44ms/step - loss: 3.3488 - accuracy: 0.1387 - val_loss: 1.9510 - val_accuracy: 0.4195\n",
      "Epoch 71/100\n",
      "60/60 [==============================] - 3s 44ms/step - loss: 3.3007 - accuracy: 0.1419 - val_loss: 1.9498 - val_accuracy: 0.4199\n",
      "Epoch 72/100\n",
      "60/60 [==============================] - 3s 44ms/step - loss: 3.2703 - accuracy: 0.1389 - val_loss: 1.9487 - val_accuracy: 0.4224\n",
      "Epoch 73/100\n",
      "60/60 [==============================] - 3s 44ms/step - loss: 3.2619 - accuracy: 0.1409 - val_loss: 1.9479 - val_accuracy: 0.4241\n",
      "Epoch 74/100\n",
      "60/60 [==============================] - 3s 44ms/step - loss: 3.2453 - accuracy: 0.1409 - val_loss: 1.9467 - val_accuracy: 0.4253\n",
      "Epoch 75/100\n",
      "60/60 [==============================] - 3s 44ms/step - loss: 3.2026 - accuracy: 0.1410 - val_loss: 1.9457 - val_accuracy: 0.4281\n",
      "Epoch 76/100\n",
      "60/60 [==============================] - 3s 44ms/step - loss: 3.1829 - accuracy: 0.1428 - val_loss: 1.9444 - val_accuracy: 0.4306\n",
      "Epoch 77/100\n",
      "60/60 [==============================] - 3s 44ms/step - loss: 3.1693 - accuracy: 0.1426 - val_loss: 1.9435 - val_accuracy: 0.4311\n",
      "Epoch 78/100\n",
      "60/60 [==============================] - 3s 44ms/step - loss: 3.1363 - accuracy: 0.1449 - val_loss: 1.9421 - val_accuracy: 0.4326\n",
      "Epoch 79/100\n",
      "60/60 [==============================] - 3s 44ms/step - loss: 3.1157 - accuracy: 0.1452 - val_loss: 1.9414 - val_accuracy: 0.4335\n",
      "Epoch 80/100\n",
      "60/60 [==============================] - 3s 44ms/step - loss: 3.0895 - accuracy: 0.1472 - val_loss: 1.9404 - val_accuracy: 0.4348\n",
      "Epoch 81/100\n",
      "60/60 [==============================] - 3s 44ms/step - loss: 3.0763 - accuracy: 0.1468 - val_loss: 1.9393 - val_accuracy: 0.4355\n",
      "Epoch 82/100\n",
      "60/60 [==============================] - 3s 44ms/step - loss: 3.0462 - accuracy: 0.1472 - val_loss: 1.9382 - val_accuracy: 0.4362\n",
      "Epoch 83/100\n",
      "60/60 [==============================] - 3s 44ms/step - loss: 3.0142 - accuracy: 0.1516 - val_loss: 1.9373 - val_accuracy: 0.4390\n",
      "Epoch 84/100\n",
      "60/60 [==============================] - 3s 44ms/step - loss: 3.0062 - accuracy: 0.1489 - val_loss: 1.9361 - val_accuracy: 0.4420\n",
      "Epoch 85/100\n",
      "60/60 [==============================] - 3s 44ms/step - loss: 2.9781 - accuracy: 0.1512 - val_loss: 1.9345 - val_accuracy: 0.4439\n",
      "Epoch 86/100\n",
      "60/60 [==============================] - 3s 44ms/step - loss: 2.9601 - accuracy: 0.1531 - val_loss: 1.9330 - val_accuracy: 0.4458\n",
      "Epoch 87/100\n",
      "60/60 [==============================] - 3s 44ms/step - loss: 2.9445 - accuracy: 0.1536 - val_loss: 1.9310 - val_accuracy: 0.4478\n",
      "Epoch 88/100\n",
      "60/60 [==============================] - 3s 44ms/step - loss: 2.9098 - accuracy: 0.1564 - val_loss: 1.9295 - val_accuracy: 0.4493\n",
      "Epoch 89/100\n",
      "60/60 [==============================] - 3s 44ms/step - loss: 2.8890 - accuracy: 0.1586 - val_loss: 1.9279 - val_accuracy: 0.4510\n",
      "Epoch 90/100\n",
      "60/60 [==============================] - 3s 44ms/step - loss: 2.8845 - accuracy: 0.1582 - val_loss: 1.9260 - val_accuracy: 0.4537\n",
      "Epoch 91/100\n",
      "60/60 [==============================] - 3s 44ms/step - loss: 2.8664 - accuracy: 0.1548 - val_loss: 1.9241 - val_accuracy: 0.4564\n",
      "Epoch 92/100\n",
      "60/60 [==============================] - 3s 44ms/step - loss: 2.8464 - accuracy: 0.1587 - val_loss: 1.9223 - val_accuracy: 0.4565\n",
      "Epoch 93/100\n",
      "60/60 [==============================] - 3s 44ms/step - loss: 2.8276 - accuracy: 0.1584 - val_loss: 1.9204 - val_accuracy: 0.4584\n",
      "Epoch 94/100\n",
      "60/60 [==============================] - 3s 44ms/step - loss: 2.8076 - accuracy: 0.1609 - val_loss: 1.9183 - val_accuracy: 0.4613\n",
      "Epoch 95/100\n",
      "60/60 [==============================] - 3s 44ms/step - loss: 2.7831 - accuracy: 0.1645 - val_loss: 1.9160 - val_accuracy: 0.4641\n",
      "Epoch 96/100\n",
      "60/60 [==============================] - 3s 44ms/step - loss: 2.7664 - accuracy: 0.1649 - val_loss: 1.9139 - val_accuracy: 0.4676\n",
      "Epoch 97/100\n",
      "60/60 [==============================] - 3s 44ms/step - loss: 2.7581 - accuracy: 0.1642 - val_loss: 1.9117 - val_accuracy: 0.4693\n",
      "Epoch 98/100\n",
      "60/60 [==============================] - 3s 44ms/step - loss: 2.7473 - accuracy: 0.1629 - val_loss: 1.9096 - val_accuracy: 0.4727\n",
      "Epoch 99/100\n",
      "60/60 [==============================] - 3s 44ms/step - loss: 2.7310 - accuracy: 0.1662 - val_loss: 1.9069 - val_accuracy: 0.4778\n",
      "Epoch 100/100\n",
      "60/60 [==============================] - 3s 44ms/step - loss: 2.7100 - accuracy: 0.1684 - val_loss: 1.9040 - val_accuracy: 0.4802\n"
     ]
    }
   ],
   "source": [
    "history = output_model.fit(Input_train, Objetive_train, batch_size=batch_size, epochs=epochs, verbose=VERBOSE, \n",
    "                       validation_data=(Input_test, Objetive_test))"
   ]
  },
  {
   "cell_type": "code",
   "execution_count": 34,
   "metadata": {},
   "outputs": [
    {
     "name": "stdout",
     "output_type": "stream",
     "text": [
      "313/313 [==============================] - 1s 3ms/step - loss: 1.9040 - accuracy: 0.4802\n"
     ]
    },
    {
     "data": {
      "text/plain": [
       "[1.9039695262908936, 0.48019999265670776]"
      ]
     },
     "execution_count": 34,
     "metadata": {},
     "output_type": "execute_result"
    }
   ],
   "source": [
    "output_model.evaluate(Input_test, Objetive_test)"
   ]
  },
  {
   "cell_type": "code",
   "execution_count": 35,
   "metadata": {},
   "outputs": [
    {
     "data": {
      "text/plain": [
       "dict_keys(['loss', 'accuracy', 'val_loss', 'val_accuracy'])"
      ]
     },
     "execution_count": 35,
     "metadata": {},
     "output_type": "execute_result"
    }
   ],
   "source": [
    "history.history.keys()"
   ]
  },
  {
   "cell_type": "code",
   "execution_count": 41,
   "metadata": {},
   "outputs": [],
   "source": [
    "# history.history['loss']\n",
    "# history.history['val_loss']"
   ]
  },
  {
   "cell_type": "code",
   "execution_count": 36,
   "metadata": {},
   "outputs": [
    {
     "data": {
      "image/png": "[encoded data removed]",
      "text/plain": [
       "<Figure size 576x432 with 1 Axes>"
      ]
     },
     "metadata": {
      "needs_background": "light"
     },
     "output_type": "display_data"
    },
    {
     "data": {
      "image/png": "[encoded data removed]",
      "text/plain": [
       "<Figure size 576x432 with 1 Axes>"
      ]
     },
     "metadata": {
      "needs_background": "light"
     },
     "output_type": "display_data"
    }
   ],
   "source": [
    "if PLOT:\n",
    "    ## Plots\n",
    "    # Loss Curves\n",
    "    plt.figure(figsize=[8,6])\n",
    "    plt.grid()\n",
    "    plt.plot(history.history['loss'],'.r')\n",
    "    plt.plot(history.history['val_loss'],'.b')\n",
    "    plt.plot(history.history['loss'],'--y')\n",
    "    plt.plot(history.history['val_loss'],'--g')\n",
    "    plt.legend(['Training loss', 'Validation Loss'],fontsize=18)\n",
    "    plt.xlabel('Epochs ',fontsize=16)\n",
    "    plt.ylabel('Loss',fontsize=16)\n",
    "    plt.title('Loss Curves',fontsize=16)\n",
    "    plt.show()\n",
    "\n",
    "    # Accuracy Curves\n",
    "    plt.figure(figsize=[8,6])\n",
    "    plt.grid()\n",
    "    plt.plot(history.history['accuracy'],'.r')\n",
    "    plt.plot(history.history['val_accuracy'],'.b')\n",
    "    plt.plot(history.history['accuracy'],'--y')\n",
    "    plt.plot(history.history['val_accuracy'],'--g')\n",
    "    plt.legend(['Training Accuracy', 'Validation Accuracy'],fontsize=18)\n",
    "    plt.xlabel('Epochs ',fontsize=16)\n",
    "    plt.ylabel('Accuracy',fontsize=16)\n",
    "    plt.title('Accuracy Curves',fontsize=16)\n",
    "    plt.show()"
   ]
  },
  {
   "cell_type": "code",
   "execution_count": 37,
   "metadata": {},
   "outputs": [
    {
     "name": "stdout",
     "output_type": "stream",
     "text": [
      "Help on function save in module tensorflow.python.keras.engine.training:\n",
      "\n",
      "save(self, filepath, overwrite=True, include_optimizer=True, save_format=None, signatures=None, options=None)\n",
      "    Saves the model to Tensorflow SavedModel or a single HDF5 file.\n",
      "    \n",
      "    The savefile includes:\n",
      "    \n",
      "    - The model architecture, allowing to re-instantiate the model.\n",
      "    - The model weights.\n",
      "    - The state of the optimizer, allowing to resume training\n",
      "        exactly where you left off.\n",
      "    \n",
      "    This allows you to save the entirety of the state of a model\n",
      "    in a single file.\n",
      "    \n",
      "    Saved models can be reinstantiated via `keras.models.load_model`.\n",
      "    The model returned by `load_model` is a compiled model ready to be used\n",
      "    (unless the saved model was never compiled in the first place).\n",
      "    \n",
      "    Models built with the Sequential and Functional API can be saved to both the\n",
      "    HDF5 and SavedModel formats. Subclassed models can only be saved with the\n",
      "    SavedModel format.\n",
      "    \n",
      "    Note that the model weights may have different scoped names after being\n",
      "    loaded. Scoped names include the model/layer names, such as\n",
      "    `\"dense_1/kernel:0\"`. It is recommended that you use the layer properties to\n",
      "     access specific variables, e.g. `model.get_layer(\"dense_1\").kernel`.\n",
      "    \n",
      "    Arguments:\n",
      "        filepath: String, PathLike, path to SavedModel or H5 file to save the\n",
      "            model.\n",
      "        overwrite: Whether to silently overwrite any existing file at the\n",
      "            target location, or provide the user with a manual prompt.\n",
      "        include_optimizer: If True, save optimizer's state together.\n",
      "        save_format: Either `'tf'` or `'h5'`, indicating whether to save the\n",
      "            model to Tensorflow SavedModel or HDF5. Defaults to 'tf' in TF 2.X,\n",
      "            and 'h5' in TF 1.X.\n",
      "        signatures: Signatures to save with the SavedModel. Applicable to the\n",
      "            'tf' format only. Please see the `signatures` argument in\n",
      "            `tf.saved_model.save` for details.\n",
      "        options: Optional `tf.saved_model.SaveOptions` object that specifies\n",
      "            options for saving to SavedModel.\n",
      "    \n",
      "    Example:\n",
      "    \n",
      "    ```python\n",
      "    from keras.models import load_model\n",
      "    \n",
      "    model.save('my_model.h5')  # creates a HDF5 file 'my_model.h5'\n",
      "    del model  # deletes the existing model\n",
      "    \n",
      "    # returns a compiled model\n",
      "    # identical to the previous one\n",
      "    model = load_model('my_model.h5')\n",
      "    ```\n",
      "\n"
     ]
    }
   ],
   "source": [
    "help(keras.Model.save)"
   ]
  },
  {
   "cell_type": "code",
   "execution_count": 30,
   "metadata": {},
   "outputs": [],
   "source": [
    "output_model.save(filepath=\"./mnist_model_v3.h5\", include_optimizer=True)"
   ]
  },
  {
   "cell_type": "code",
   "execution_count": null,
   "metadata": {},
   "outputs": [],
   "source": []
  },
  {
   "cell_type": "code",
   "execution_count": null,
   "metadata": {},
   "outputs": [],
   "source": []
  },
  {
   "cell_type": "code",
   "execution_count": null,
   "metadata": {},
   "outputs": [],
   "source": []
  }
 ],
 "metadata": {
  "kernelspec": {
   "display_name": "Python 3",
   "language": "python",
   "name": "python3"
  },
  "language_info": {
   "codemirror_mode": {
    "name": "ipython",
    "version": 3
   },
   "file_extension": ".py",
   "mimetype": "text/x-python",
   "name": "python",
   "nbconvert_exporter": "python",
   "pygments_lexer": "ipython3",
   "version": "3.8.5"
  }
 },
 "nbformat": 4,
 "nbformat_minor": 2
}
